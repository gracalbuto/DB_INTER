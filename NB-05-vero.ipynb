{
 "cells": [
  {
   "cell_type": "code",
   "execution_count": 0,
   "metadata": {
    "application/vnd.databricks.v1+cell": {
     "cellMetadata": {},
     "inputWidgets": {},
     "nuid": "3428e4a7-9af8-4173-b688-0fd9037e7ae2",
     "showTitle": false,
     "title": ""
    }
   },
   "outputs": [],
   "source": []
  }
 ],
 "metadata": {
  "application/vnd.databricks.v1+notebook": {
   "dashboards": [],
   "language": "python",
   "notebookMetadata": {
    "pythonIndentUnit": 4
   },
   "notebookName": "NB-05-vero",
   "notebookOrigID": 3792804036503494,
   "widgets": {}
  }
 },
 "nbformat": 4,
 "nbformat_minor": 0
}
