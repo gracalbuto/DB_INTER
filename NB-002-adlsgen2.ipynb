{
 "cells": [
  {
   "cell_type": "markdown",
   "metadata": {
    "application/vnd.databricks.v1+cell": {
     "cellMetadata": {},
     "inputWidgets": {},
     "nuid": "6286b088-166e-495c-a157-c4ab636c7158",
     "showTitle": false,
     "title": ""
    }
   },
   "source": [
    "##esempio di aggancio a storage account di tipo adlsgen2"
   ]
  },
  {
   "cell_type": "code",
   "execution_count": 0,
   "metadata": {
    "application/vnd.databricks.v1+cell": {
     "cellMetadata": {
      "byteLimit": 2048000,
      "rowLimit": 10000
     },
     "inputWidgets": {},
     "nuid": "1773c873-5244-416b-9ab5-5040eae58b5b",
     "showTitle": false,
     "title": ""
    }
   },
   "outputs": [],
   "source": [
    "storageAccount =\"sadatabricksadlsgen2gr\"\n",
    "storageEndPoint =\"abfss://readata@sadatabricksadlsgen2gr.dfs.core.windows.net/\".format(storageAccount)\n",
    "\n",
    "mountPoint = \"/mnt/sa/Gen2\"\n",
    "\n",
    "print(\"Storage End Point\" + storageEndPoint)\n",
    "print (\"Mount Point \" + mountPoint)"
   ]
  },
  {
   "cell_type": "code",
   "execution_count": 0,
   "metadata": {
    "application/vnd.databricks.v1+cell": {
     "cellMetadata": {},
     "inputWidgets": {},
     "nuid": "a1ec4a10-c5d9-4383-b8ae-8986bbc386bd",
     "showTitle": false,
     "title": ""
    }
   },
   "outputs": [],
   "source": [
    "clientID = \"\"\n",
    "tenantID =\"\"\n",
    "clientSecret =\"\""
   ]
  }
 ],
 "metadata": {
  "application/vnd.databricks.v1+notebook": {
   "dashboards": [],
   "language": "python",
   "notebookMetadata": {
    "pythonIndentUnit": 4
   },
   "notebookName": "NB-002-adlsgen2",
   "notebookOrigID": 2885179260825561,
   "widgets": {}
  }
 },
 "nbformat": 4,
 "nbformat_minor": 0
}
