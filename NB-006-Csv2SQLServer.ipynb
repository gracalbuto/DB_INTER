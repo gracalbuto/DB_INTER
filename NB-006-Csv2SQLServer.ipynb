{
 "cells": [
  {
   "cell_type": "markdown",
   "metadata": {
    "application/vnd.databricks.v1+cell": {
     "cellMetadata": {
      "byteLimit": 2048000,
      "rowLimit": 10000
     },
     "inputWidgets": {},
     "nuid": "2d6454ff-0d73-411a-9e9b-5210e3672eaa",
     "showTitle": false,
     "title": ""
    }
   },
   "source": [
    "Migrare i dati da csv su Storage Account a tabella Sql Server su Azure"
   ]
  },
  {
   "cell_type": "code",
   "execution_count": 0,
   "metadata": {
    "application/vnd.databricks.v1+cell": {
     "cellMetadata": {
      "byteLimit": 2048000,
      "rowLimit": 10000
     },
     "inputWidgets": {},
     "nuid": "6fa63a86-73f9-4bba-ade6-dbab8da62309",
     "showTitle": false,
     "title": ""
    }
   },
   "outputs": [],
   "source": [
    "from pyspark.sql.types import *"
   ]
  },
  {
   "cell_type": "code",
   "execution_count": 0,
   "metadata": {
    "application/vnd.databricks.v1+cell": {
     "cellMetadata": {
      "byteLimit": 2048000,
      "rowLimit": 10000
     },
     "inputWidgets": {},
     "nuid": "d6d077c6-c082-408a-88b0-9b4790e831bc",
     "showTitle": false,
     "title": ""
    }
   },
   "outputs": [],
   "source": [
    "%fs ls /mnt/sa/Blob"
   ]
  },
  {
   "cell_type": "code",
   "execution_count": 0,
   "metadata": {
    "application/vnd.databricks.v1+cell": {
     "cellMetadata": {
      "byteLimit": 2048000,
      "rowLimit": 10000
     },
     "inputWidgets": {},
     "nuid": "e597cbf7-eeac-49e9-8cfa-6bf8b7efc94d",
     "showTitle": false,
     "title": ""
    }
   },
   "outputs": [],
   "source": [
    "\n",
    "storageAccount  = \"sadatabricksadlsgen2gr\"\n",
    "storageKey = \"odN94b75Cdh/mKKPjDYCo9AQveP5cjMNY/xMctEsRTJGCSS9dfqjQw6PCqvDqdmDHEsn7zl+Z+jr+AStYZShBw==\"\n",
    "mountPoint = \"/mnt/sa/Blob\"\n",
    "storageEndPoint = \"wasbs://rawdata@{}.blob.core.windows.net\".format(storageAccount)\n",
    "storageConn = \"fs.azure.account.key.{}.blob.core.windows.net\".format(storageAccount)"
   ]
  },
  {
   "cell_type": "code",
   "execution_count": 0,
   "metadata": {
    "application/vnd.databricks.v1+cell": {
     "cellMetadata": {
      "byteLimit": 2048000,
      "rowLimit": 10000
     },
     "inputWidgets": {},
     "nuid": "0beb2b44-8447-48a4-a3d7-61f8660fae89",
     "showTitle": false,
     "title": ""
    }
   },
   "outputs": [],
   "source": [
    "\n",
    "try:\n",
    "    dbutils.fs.mount(\n",
    "        source        = storageEndPoint,\n",
    "        mount_point   = mountPoint,\n",
    "        extra_configs = { storageConn : storageKey }\n",
    "    )\n",
    "except:\n",
    "    print(\"Il sa è già stato montato.... \" + mountPoint)"
   ]
  },
  {
   "cell_type": "code",
   "execution_count": 0,
   "metadata": {
    "application/vnd.databricks.v1+cell": {
     "cellMetadata": {
      "byteLimit": 2048000,
      "rowLimit": 10000
     },
     "inputWidgets": {},
     "nuid": "6ef71a4b-32b1-4871-a127-b94a3bb79e5f",
     "showTitle": false,
     "title": ""
    }
   },
   "outputs": [],
   "source": [
    "# Creo un tipo Struct per indicare i metadati utili per tipizzare le colonne dei dati caricati\n",
    "customSchema = StructType([\n",
    "    StructField(\"C_CUSTKEY\"    , IntegerType()),\n",
    "    StructField(\"C_NAME\"       , StringType()),\n",
    "    StructField(\"C_ADDRESS\"    , StringType()),\n",
    "    StructField(\"C_NATIONKEY\"  , ShortType()),\n",
    "    StructField(\"C_PHONE\"      , StringType()),\n",
    "    StructField(\"C_ACCTBAL\"    , DoubleType()),\n",
    "    StructField(\"C_MKTSEGMENT\" , StringType()),\n",
    "    StructField(\"C_COMMENT\"    , StringType())\n",
    "])\n",
    "\n",
    "saFolderCsv = \"{}/Customer/csvFiles\".format(mountPoint)\n",
    "display(saFolderCsv)\n",
    "customerDF = spark.read.format(\"csv\").option(\"header\", True).schema(customSchema).load(saFolderCsv)\n",
    "display(customerDF.limit(10))"
   ]
  },
  {
   "cell_type": "code",
   "execution_count": 0,
   "metadata": {
    "application/vnd.databricks.v1+cell": {
     "cellMetadata": {
      "byteLimit": 2048000,
      "rowLimit": 10000
     },
     "inputWidgets": {},
     "nuid": "01dd7caf-be25-47dd-b8c5-a381d98eb026",
     "showTitle": false,
     "title": ""
    }
   },
   "outputs": [],
   "source": [
    "# connection string\n",
    "logicalServername = \"sqlservecorsodbgr.database.windows.net\"\n",
    "databaseName      = \"CorsoDB01\"\n",
    "tableName         = \"dbo.CUSTOMERS\"\n",
    "userName          = \"admingr\"\n",
    "password          = \"1234,qazwsx\" \n",
    "jdbcUrl = \"jdbc:sqlserver://{0}:{1};database={2}\".format(logicalServername, 1433, databaseName)\n",
    "connectionProperties = {\n",
    "  \"user\"     : userName,\n",
    "  \"password\" : password,\n",
    "  \"driver\"   : \"com.microsoft.sqlserver.jdbc.SQLServerDriver\"\n",
    "}\n",
    "\n",
    "sqlServerReadDF = spark.read.jdbc(\n",
    "    jdbcUrl,\n",
    "    table      = tableName,\n",
    "    properties = connectionProperties\n",
    ")\n",
    "\n",
    "display(sqlServerReadDF.printSchema())\n",
    "\n",
    "display(sqlServerReadDF.limit(10))\n"
   ]
  }
 ],
 "metadata": {
  "application/vnd.databricks.v1+notebook": {
   "dashboards": [],
   "language": "python",
   "notebookMetadata": {
    "mostRecentlyExecutedCommandWithImplicitDF": {
     "commandId": 360847485071346,
     "dataframes": [
      "_sqldf"
     ]
    },
    "pythonIndentUnit": 4
   },
   "notebookName": "NB-006-Csv2SQLServer",
   "notebookOrigID": 360847485071343,
   "widgets": {}
  }
 },
 "nbformat": 4,
 "nbformat_minor": 0
}
