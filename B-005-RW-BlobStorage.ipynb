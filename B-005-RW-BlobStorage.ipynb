{
 "cells": [
  {
   "cell_type": "markdown",
   "metadata": {
    "application/vnd.databricks.v1+cell": {
     "cellMetadata": {
      "byteLimit": 2048000,
      "rowLimit": 10000
     },
     "inputWidgets": {},
     "nuid": "db85f1ab-56ee-4d30-ab41-b140d22e4f87",
     "showTitle": false,
     "title": ""
    }
   },
   "source": [
    "Esempio R/W su Blob Storage Classico"
   ]
  },
  {
   "cell_type": "code",
   "execution_count": 0,
   "metadata": {
    "application/vnd.databricks.v1+cell": {
     "cellMetadata": {
      "byteLimit": 2048000,
      "rowLimit": 10000
     },
     "inputWidgets": {},
     "nuid": "dcd5ef36-4063-4e6a-892e-e44abf251673",
     "showTitle": false,
     "title": ""
    }
   },
   "outputs": [],
   "source": [
    "# Storage account su cui insisteremo con il mount\n",
    "storageAccount  = \"sadatabricksadlsgen2gr\"\n",
    "# Key1 associata allo storage\n",
    "storageKey = \"odN94b75Cdh/mKKPjDYCo9AQveP5cjMNY/xMctEsRTJGCSS9dfqjQw6PCqvDqdmDHEsn7zl+Z+jr+AStYZShBw==\"\n",
    "# Mount Point su DBFS\n",
    "mountPoint = \"/mnt/sa/Blob\"\n",
    "# Enpoint dello storage\n",
    "storageEndPoint = \"wasbs://rawdata@{}.blob.core.windows.net\".format(storageAccount)\n",
    "# URL di connessione al servizio\n",
    "storageConn = \"fs.azure.account.key.{}.blob.core.windows.net\".format(storageAccount)\n"
   ]
  },
  {
   "cell_type": "code",
   "execution_count": 0,
   "metadata": {
    "application/vnd.databricks.v1+cell": {
     "cellMetadata": {
      "byteLimit": 2048000,
      "rowLimit": 10000
     },
     "inputWidgets": {},
     "nuid": "066fc0a0-0dcd-446a-9184-6a0febd949ab",
     "showTitle": false,
     "title": ""
    }
   },
   "outputs": [],
   "source": [
    "# Effettuiamo il mount dello storage\n",
    "try:\n",
    "    dbutils.fs.mount(\n",
    "        source        = storageEndPoint,\n",
    "        mount_point   = mountPoint,\n",
    "        extra_configs = { storageConn : storageKey }\n",
    "    )\n",
    "except:\n",
    "    print(\"Il sa è già stato montato.... \" + mountPoint)\n",
    "     \n"
   ]
  },
  {
   "cell_type": "code",
   "execution_count": 0,
   "metadata": {
    "application/vnd.databricks.v1+cell": {
     "cellMetadata": {
      "byteLimit": 2048000,
      "rowLimit": 10000
     },
     "inputWidgets": {},
     "nuid": "9e60568e-7a4e-41c4-91c6-9e2a3b958a7f",
     "showTitle": false,
     "title": ""
    }
   },
   "outputs": [],
   "source": [
    "\n",
    "%fs ls /mnt/sa/Blob/Customer/csvFiles\n",
    "     \n",
    "\n",
    "\n",
    "     \n",
    "\n"
   ]
  },
  {
   "cell_type": "code",
   "execution_count": 0,
   "metadata": {
    "application/vnd.databricks.v1+cell": {
     "cellMetadata": {
      "byteLimit": 2048000,
      "rowLimit": 10000
     },
     "inputWidgets": {},
     "nuid": "9fab72f5-d910-4929-ada2-b2598832c956",
     "showTitle": false,
     "title": ""
    }
   },
   "outputs": [],
   "source": [
    "display(dbutils.fs.ls(\"/mnt/sa/Blob/Customer/csvFiles\"))"
   ]
  },
  {
   "cell_type": "code",
   "execution_count": 0,
   "metadata": {
    "application/vnd.databricks.v1+cell": {
     "cellMetadata": {
      "byteLimit": 2048000,
      "rowLimit": 10000
     },
     "inputWidgets": {},
     "nuid": "2d36cf64-1ec4-43ec-99a7-0808dc7433d3",
     "showTitle": false,
     "title": ""
    }
   },
   "outputs": [],
   "source": [
    "customerDF = spark.read.format(\"csv\").option(\"header\", True).option(\"inferSchema\", True).load(\"/mnt/sa/Blob/Customer/csvFiles/\")\n",
    "\n",
    "customerDF.printSchema()\n",
    "     \n",
    "\n"
   ]
  },
  {
   "cell_type": "code",
   "execution_count": 0,
   "metadata": {
    "application/vnd.databricks.v1+cell": {
     "cellMetadata": {
      "byteLimit": 2048000,
      "rowLimit": 10000
     },
     "inputWidgets": {},
     "nuid": "86a53bbb-2b18-4bea-965e-027fda58debb",
     "showTitle": false,
     "title": ""
    }
   },
   "outputs": [],
   "source": [
    "display(customerDF.limit(20))"
   ]
  }
 ],
 "metadata": {
  "application/vnd.databricks.v1+notebook": {
   "dashboards": [],
   "language": "python",
   "notebookMetadata": {
    "mostRecentlyExecutedCommandWithImplicitDF": {
     "commandId": 3792804036503489,
     "dataframes": [
      "_sqldf"
     ]
    },
    "pythonIndentUnit": 4
   },
   "notebookName": "B-005-RW-BlobStorage",
   "notebookOrigID": 3928922597528949,
   "widgets": {}
  }
 },
 "nbformat": 4,
 "nbformat_minor": 0
}
